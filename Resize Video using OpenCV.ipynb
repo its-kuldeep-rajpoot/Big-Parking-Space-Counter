{
 "cells": [
  {
   "cell_type": "code",
   "execution_count": null,
   "id": "462e16bf",
   "metadata": {},
   "outputs": [],
   "source": [
    "#To resize a video using Open CV\n",
    "import cv2\n",
    "import numpy as np\n",
    "\n",
    "cap = cv2.VideoCapture('CarParkBigVid.mp4')\n",
    "\n",
    "fourcc = cv2.VideoWriter_fourcc(*'XVID')\n",
    "out = cv2.VideoWriter('CarParkResized.mp4',fourcc, 5, (1484,834))\n",
    "\n",
    "while True:\n",
    "    ret, frame = cap.read()\n",
    "    if ret == True:\n",
    "        b = cv2.resize(frame,(1484,834),fx=0,fy=0, interpolation = cv2.INTER_CUBIC)\n",
    "        out.write(b)\n",
    "    else:\n",
    "        break\n",
    "    \n",
    "cap.release()\n",
    "out.release()\n",
    "cv2.destroyAllWindows()"
   ]
  }
 ],
 "metadata": {
  "kernelspec": {
   "display_name": "Python 3 (ipykernel)",
   "language": "python",
   "name": "python3"
  },
  "language_info": {
   "codemirror_mode": {
    "name": "ipython",
    "version": 3
   },
   "file_extension": ".py",
   "mimetype": "text/x-python",
   "name": "python",
   "nbconvert_exporter": "python",
   "pygments_lexer": "ipython3",
   "version": "3.11.0"
  }
 },
 "nbformat": 4,
 "nbformat_minor": 5
}

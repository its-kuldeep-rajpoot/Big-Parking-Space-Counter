{
 "cells": [
  {
   "cell_type": "code",
   "execution_count": 1,
   "id": "4d7f46e7",
   "metadata": {},
   "outputs": [],
   "source": [
    "import numpy as np\n",
    "import cv2\n",
    "import cvzone\n",
    "import pickle"
   ]
  },
  {
   "cell_type": "code",
   "execution_count": 2,
   "id": "892dd9b9",
   "metadata": {},
   "outputs": [],
   "source": [
    "def toshow(name, img):\n",
    "    width = 1100\n",
    "    height = 650\n",
    "    cv2.namedWindow(name, cv2.WINDOW_KEEPRATIO)\n",
    "    cv2.resizeWindow(name, width, height)\n",
    "    cv2.imshow(name, img)"
   ]
  },
  {
   "cell_type": "code",
   "execution_count": 3,
   "id": "4523d2b4",
   "metadata": {},
   "outputs": [],
   "source": [
    "width, height = 47, 17\n",
    "\n",
    "try:\n",
    "    with open(\"CarPos\", \"rb\") as f:\n",
    "        posList = pickle.load(f)\n",
    "except:\n",
    "    posList = []\n",
    "    \n",
    "\n",
    "def mouseClick(events,x,y, flags, params):\n",
    "    if events == cv2.EVENT_LBUTTONDOWN:\n",
    "        posList.append((x,y))\n",
    "    if events == cv2.EVENT_RBUTTONDOWN:\n",
    "        for i, pos in enumerate(posList):\n",
    "            x1, y1 = pos\n",
    "            if x1<x<x1+width and y1<y<y1+height:\n",
    "                posList.pop(i)\n",
    "    \n",
    "    with open('CarPos', 'wb') as f:\n",
    "        pickle.dump(posList, f)\n",
    "\n",
    "\n",
    "while True:\n",
    "    img = cv2.imread(\"CarParkBigImg.jpg\")\n",
    "    for pos in posList:\n",
    "        cv2.rectangle(img, pos, (pos[0]+width,pos[1]+height), (0,255,0), 2)\n",
    "    \n",
    "    toshow(\"Image\", img)\n",
    "    \n",
    "    cv2.setMouseCallback(\"Image\", mouseClick)\n",
    "    \n",
    "    k = cv2.waitKey(1)\n",
    "    if k==ord(\"q\"):\n",
    "        cv2.destroyAllWindows()\n",
    "        break"
   ]
  },
  {
   "cell_type": "code",
   "execution_count": 4,
   "id": "04262fc7",
   "metadata": {},
   "outputs": [],
   "source": [
    "def CheckParking(imgPro):\n",
    "    freePark =0\n",
    "    for pos in posList:\n",
    "        x, y = pos\n",
    "        imgCrop = imgPro[y:y+height, x:x+width]\n",
    "#     cv2.imshow(\"I\", imgCrop)\n",
    "        count = cv2.countNonZero(imgCrop)\n",
    "        cvzone.putTextRect(img, str(count), (x+2, y+height-5), scale=1, thickness=2, offset=0, colorR=(255,0,255))\n",
    "        if count<101:\n",
    "            thickness = 2\n",
    "            color=(0,255,0)\n",
    "            freePark+=1\n",
    "        else:\n",
    "            thickness = 1\n",
    "            color=(0,0,255)\n",
    "        cv2.rectangle(img, pos, (pos[0]+width, pos[1]+height), color, thickness)\n",
    "        cvzone.putTextRect(img, f'Free: {freePark}/{len(posList)}',(20,50), colorR = (0,255,0), offset=10, thickness=3) "
   ]
  },
  {
   "cell_type": "code",
   "execution_count": null,
   "id": "5c2ddb86",
   "metadata": {},
   "outputs": [],
   "source": [
    "vid = cv2.VideoCapture(\"CarParkResized.mp4\")\n",
    "\n",
    "with open(\"CarPos\", \"rb\") as f:\n",
    "    posList = pickle.load(f)\n",
    "\n",
    "while True:\n",
    "    if vid.get(cv2.CAP_PROP_POS_FRAMES) == vid.get(cv2.CAP_PROP_FRAME_COUNT):\n",
    "        vid.set(cv2.CAP_PROP_POS_FRAMES, 0)\n",
    "    \n",
    "    success, img = vid.read()\n",
    "    imgGray = cv2.cvtColor(img, cv2.COLOR_BGR2GRAY)\n",
    "    #toshow(\"Image Gray\", imgGray)\n",
    "    imgBlur = cv2.GaussianBlur(imgGray, (1,1), 2)\n",
    "#     toshow(\"Image Blur\", imgBlur)\n",
    "#     imgCanny = cv2.Canny(imgBlur, 4)\n",
    "#     toshow(\"Image Canny\", imgCanny)\n",
    "    imgThres = cv2.adaptiveThreshold(imgBlur, 255, cv2.ADAPTIVE_THRESH_GAUSSIAN_C, cv2.THRESH_BINARY_INV, 29, 18)\n",
    "#     toshow(\"Image Threshold\", imgThres)\n",
    "    imgMed = cv2.medianBlur(imgThres,3)\n",
    "#     toshow(\"Image Median\", imgMed)\n",
    "    CheckParking(imgMed)\n",
    "    \n",
    "    \n",
    "    \n",
    "    #for pos in posList:\n",
    "    #    cv2.rectangle(img, pos, (pos[0]+width, pos[1]+height), (0,255,0), 2)\n",
    "    \n",
    "    \n",
    "    toshow(\"Video\", img)\n",
    "    \n",
    "    k=cv2.waitKey(1)\n",
    "    if k==ord(\"q\"):\n",
    "        cv2.destroyAllWindows()\n",
    "        break"
   ]
  },
  {
   "cell_type": "markdown",
   "id": "4293cd02",
   "metadata": {},
   "source": [
    "#### Thank you!\n",
    "#### Kuldeep Rajpoot"
   ]
  }
 ],
 "metadata": {
  "kernelspec": {
   "display_name": "Python 3 (ipykernel)",
   "language": "python",
   "name": "python3"
  },
  "language_info": {
   "codemirror_mode": {
    "name": "ipython",
    "version": 3
   },
   "file_extension": ".py",
   "mimetype": "text/x-python",
   "name": "python",
   "nbconvert_exporter": "python",
   "pygments_lexer": "ipython3",
   "version": "3.11.0"
  }
 },
 "nbformat": 4,
 "nbformat_minor": 5
}
